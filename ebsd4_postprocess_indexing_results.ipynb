{
 "cells": [
  {
   "cell_type": "markdown",
   "id": "95e88498-d7a0-4bf0-8a7d-95c5b00b751d",
   "metadata": {},
   "source": [
    "# Post-processing of EBSD indexing results from an Al-steel joint\n",
    "\n",
    "Håkon Wiik Ånes (hakon.w.anes@ntnu.no)\n",
    "\n",
    "Indexing = dictionary indexing + orientation refinement.\n",
    "\n",
    "See the relevant package documentation for more details on the packages used here:\n",
    "* diffsims: https://diffsims.readthedocs.io/en/latest/\n",
    "* kikuchipy: https://kikuchipy.org/en/stable/\n",
    "* hyperspy: hyperspy.org/hyperspy-doc/current/\n",
    "* pyebsdindex: https://pyebsdindex.readthedocs.io/en/latest/\n",
    "* orix: https://orix.readthedocs.io/en/stable/\n",
    "\n",
    "Import required packages and print their versions"
   ]
  },
  {
   "cell_type": "code",
   "execution_count": 14,
   "id": "22b62c4e-8c8e-4753-8d9b-d7935244f322",
   "metadata": {},
   "outputs": [
    {
     "name": "stdout",
     "output_type": "stream",
     "text": [
      "Run date:  2022-05-31\n",
      "\n",
      "Software versions\n",
      "------------------\n",
      "kikuchipy : 0.6.dev0\n",
      "matplotlib : 3.5.2\n",
      "numpy : 1.21.6\n",
      "orix : 0.9.0\n",
      "scikit-image : 0.19.2\n"
     ]
    }
   ],
   "source": [
    "# Replace \"inline\" with \"qt5\" from the pyqt package for interactive plotting\n",
    "%matplotlib qt5\n",
    "\n",
    "from datetime import date\n",
    "import importlib_metadata\n",
    "import os\n",
    "\n",
    "import kikuchipy as kp\n",
    "import matplotlib.pyplot as plt\n",
    "from mpl_toolkits.axes_grid1 import make_axes_locatable\n",
    "import numpy as np\n",
    "from orix import io\n",
    "from orix.quaternion import Orientation\n",
    "import skimage.color as skc\n",
    "\n",
    "\n",
    "# Directories\n",
    "# Dataset naming (a-c) = (I-III)\n",
    "dset = \"c\"\n",
    "dir_mp = \"/home/hakon/kode/emsoft/emdata/crystal_data\"\n",
    "dir_data = os.path.join(\"/home/hakon/phd/data/tina\", dset)\n",
    "dir_kp = os.path.join(dir_data, \"kp\")\n",
    "dir_merged = os.path.join(dir_kp, \"merged\")\n",
    "\n",
    "# Matplotlib\n",
    "plt.rcParams.update({\"figure.figsize\": (5, 5), \"font.size\": 15})\n",
    "savefig_kwds = dict(bbox_inches=\"tight\", pad_inches=0, dpi=150)\n",
    "plot_kwds = dict(\n",
    "    scalebar_properties=dict(\n",
    "        box_alpha=0, location=\"lower right\", scale_loc=\"top\"\n",
    "    )\n",
    ")\n",
    "\n",
    "print(\"Run date: \", date.today())\n",
    "print(\"\\nSoftware versions\\n------------------\")\n",
    "for pkg in [\n",
    "    \"kikuchipy\",\n",
    "    \"matplotlib\",\n",
    "    \"numpy\",\n",
    "    \"orix\",\n",
    "    \"scikit-image\"\n",
    "]:\n",
    "    if pkg == \"numpy\":\n",
    "        ver = np.__version__\n",
    "    else:\n",
    "        ver = importlib_metadata.version(pkg)\n",
    "    print(pkg, \":\", ver)"
   ]
  },
  {
   "cell_type": "markdown",
   "id": "e6934eaa-9b8c-42c2-b417-00d94b8d73c5",
   "metadata": {},
   "source": [
    "Load single phase indexing results"
   ]
  },
  {
   "cell_type": "code",
   "execution_count": 15,
   "id": "1f338928-fafb-4e2b-9af6-45e037aaa209",
   "metadata": {},
   "outputs": [],
   "source": [
    "phases = {\n",
    "    \"al\": \"Al\",\n",
    "    \"alpha_alfesi2\": r\"$\\alpha_c$\",\n",
    "    \"ferrite\": r\"$\\alpha$-Fe\",\n",
    "    \"fe2al5\": r\"$\\eta$\",\n",
    "    \"fe4al13\": r\"$\\theta$\",\n",
    "}"
   ]
  },
  {
   "cell_type": "code",
   "execution_count": 16,
   "id": "c9e8ef7a-efd0-428e-b507-77ac6150fd6d",
   "metadata": {},
   "outputs": [],
   "source": [
    "xmaps_ref = []\n",
    "for phase_name, phase_name_alt in phases.items():\n",
    "    fname = f\"xmap_ref_{phase_name}.h5\"\n",
    "    xmap = io.load(os.path.join(dir_kp, phase_name, fname))\n",
    "    xmap.phases[phase_name].name = phase_name_alt\n",
    "    xmaps_ref.append(xmap)"
   ]
  },
  {
   "cell_type": "markdown",
   "id": "7f023770-7f4d-4a6a-8028-1b5ef06a164c",
   "metadata": {},
   "source": [
    "Merge into multiphase crystal map by selecting the phase with the highest\n",
    "normalized cross-correlation (NCC) score in each map point"
   ]
  },
  {
   "cell_type": "code",
   "execution_count": 17,
   "id": "2fbe4685-f5ce-4adc-9ddf-5f1da1ea7e0d",
   "metadata": {},
   "outputs": [
    {
     "data": {
      "text/plain": [
       "Phase    Orientations         Name  Space group  Point group  Proper point group       Color\n",
       "    0    4929 (23.8%)           Al        Fm-3m         m-3m                 432    tab:blue\n",
       "    1    4064 (19.7%)   $\\alpha_c$         Im-3          m-3                  23  tab:orange\n",
       "    2   10168 (49.2%)  $\\alpha$-Fe        Im-3m         m-3m                 432   tab:green\n",
       "    3       91 (0.4%)       $\\eta$         Cmcm          mmm                 222     tab:red\n",
       "    4     1420 (6.9%)     $\\theta$         C2/m          2/m                 112  tab:purple\n",
       "Properties: scores, merged_scores\n",
       "Scan unit: um"
      ]
     },
     "execution_count": 17,
     "metadata": {},
     "output_type": "execute_result"
    }
   ],
   "source": [
    "xmap_merged = kp.indexing.merge_crystal_maps(\n",
    "    crystal_maps=xmaps_ref, mean_n_best=1,\n",
    ")\n",
    "xmap_merged"
   ]
  },
  {
   "cell_type": "markdown",
   "id": "10ae14c9-0ef7-4a49-9ad3-a68e6e423fcb",
   "metadata": {},
   "source": [
    "Read average dot product map to use for thresholding of incorrectly indexing\n",
    "points in `MTEX`"
   ]
  },
  {
   "cell_type": "code",
   "execution_count": 18,
   "id": "aac5416d-3d95-4a6a-a6bb-6e9e7ec46c93",
   "metadata": {},
   "outputs": [],
   "source": [
    "maps_mean = plt.imread(os.path.join(dir_kp, \"maps_mean.png\"))\n",
    "maps_mean = skc.rgb2gray(maps_mean[..., :3])\n",
    "xmap_merged.prop[\"mean_intensity\"] = maps_mean.ravel()"
   ]
  },
  {
   "cell_type": "markdown",
   "id": "d1b7f5be-6a8a-45d4-b7ed-3840b293ba8c",
   "metadata": {},
   "source": [
    "Write multiphase crystal map to file"
   ]
  },
  {
   "cell_type": "code",
   "execution_count": 19,
   "id": "8ad6f17c-8af4-4398-9bb8-c041b9e59c17",
   "metadata": {},
   "outputs": [],
   "source": [
    "io.save(os.path.join(dir_merged, \"xmap_merged.h5\"), xmap_merged, overwrite=True)\n",
    "io.save(\n",
    "    os.path.join(dir_merged, \"xmap_merged.ang\"),\n",
    "    xmap_merged,\n",
    "    confidence_index_prop=\"scores\",\n",
    "    extra_prop=[\"mean_intensity\"],\n",
    "    overwrite=True\n",
    ")"
   ]
  },
  {
   "cell_type": "markdown",
   "id": "2f7c2564-13b6-4750-b676-ae5c6d7cd612",
   "metadata": {},
   "source": [
    "Plot histogram of NCC scores"
   ]
  },
  {
   "cell_type": "code",
   "execution_count": 88,
   "id": "16f06d74-d876-4507-9935-08e13bfda8d2",
   "metadata": {},
   "outputs": [],
   "source": [
    "fig, ax = plt.subplots()\n",
    "ax.hist(xmap_merged.scores, bins=50);\n",
    "ax.set_xlabel(\"Normalized cross-correlation (NCC) scores\")\n",
    "ax.set_ylabel(\"Frequency\")\n",
    "fig.tight_layout()\n",
    "fig.savefig(os.path.join(dir_merged, \"hist_ncc.png\"), **savefig_kwds)"
   ]
  },
  {
   "cell_type": "markdown",
   "id": "c891682c-eade-4725-99d4-6ab903a92aa9",
   "metadata": {},
   "source": [
    "Plot map of NCC scores"
   ]
  },
  {
   "cell_type": "code",
   "execution_count": 89,
   "id": "49fa36bf-9168-42c5-b24f-77088661d0ca",
   "metadata": {},
   "outputs": [],
   "source": [
    "fig = xmap_merged.plot(\n",
    "    \"scores\",\n",
    "    cmap=\"gray\",\n",
    "    scalebar=False,\n",
    "#    colorbar=True,\n",
    "#    colorbar_label=\"NCC scores\",\n",
    "    return_figure=True,\n",
    "    remove_padding=True,\n",
    "    **plot_kwds\n",
    ")\n",
    "\n",
    "# Custom colorbar below map\n",
    "ax = fig.axes[0]\n",
    "divider = make_axes_locatable(ax)\n",
    "cax = divider.append_axes(position=\"bottom\", size=\"10%\", pad=0.05)\n",
    "cbar = fig.colorbar(ax.images[0], cax=cax, orientation=\"horizontal\")\n",
    "\n",
    "fig.tight_layout()\n",
    "fig.savefig(os.path.join(dir_merged, \"maps_ncc.png\"), **savefig_kwds)\n",
    "fig.savefig(os.path.join(dir_merged, \"maps_ncc.svg\"), **savefig_kwds)"
   ]
  },
  {
   "cell_type": "markdown",
   "id": "b524b8dc-b9dd-4b79-b663-af7f096bf122",
   "metadata": {},
   "source": [
    "Plot map of NCC scores without a scalebar and colorbar"
   ]
  },
  {
   "cell_type": "code",
   "execution_count": 40,
   "id": "54af5753-b22c-433a-aac7-d9a489e2db7d",
   "metadata": {},
   "outputs": [],
   "source": [
    "fig = xmap_merged.plot(\n",
    "    \"scores\",\n",
    "    cmap=\"gray\",\n",
    "    return_figure=True,\n",
    "    remove_padding=True,\n",
    "    scalebar=False\n",
    ")\n",
    "fig.tight_layout()\n",
    "fig.savefig(os.path.join(dir_merged, \"maps_ncc_no_scalebar.png\"), **savefig_kwds)"
   ]
  },
  {
   "cell_type": "markdown",
   "id": "484b2e26-a6d6-4c18-aefe-51d31c3a29b2",
   "metadata": {},
   "source": [
    "Plot a phase map"
   ]
  },
  {
   "cell_type": "code",
   "execution_count": 41,
   "id": "9298fe67-9f97-4dd5-96db-7681fe66717e",
   "metadata": {},
   "outputs": [],
   "source": [
    "fig = xmap_merged.plot(\n",
    "    legend_properties=dict(loc=\"lower center\", ncol=5, columnspacing=0.5),\n",
    "    return_figure=True,\n",
    "    remove_padding=True,\n",
    "    scalebar_properties=dict(\n",
    "        box_alpha=0, location=\"lower right\", scale_loc=\"top\"\n",
    "    ),\n",
    ")\n",
    "fig.tight_layout()\n",
    "fig.savefig(os.path.join(dir_merged, \"maps_phase.png\"), **savefig_kwds)"
   ]
  },
  {
   "cell_type": "markdown",
   "id": "9712a20f-1c1c-4cf7-8174-0444f4ca8211",
   "metadata": {},
   "source": [
    "Close all plots"
   ]
  },
  {
   "cell_type": "code",
   "execution_count": 42,
   "id": "389bdcd7-7697-48f7-9903-4ff9597cb718",
   "metadata": {},
   "outputs": [],
   "source": [
    "plt.close(\"all\")"
   ]
  }
 ],
 "metadata": {
  "kernelspec": {
   "display_name": "Python 3 (ipykernel)",
   "language": "python",
   "name": "python3"
  },
  "language_info": {
   "codemirror_mode": {
    "name": "ipython",
    "version": 3
   },
   "file_extension": ".py",
   "mimetype": "text/x-python",
   "name": "python",
   "nbconvert_exporter": "python",
   "pygments_lexer": "ipython3",
   "version": "3.9.13"
  }
 },
 "nbformat": 4,
 "nbformat_minor": 5
}
