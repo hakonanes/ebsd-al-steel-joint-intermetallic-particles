{
 "cells": [
  {
   "cell_type": "markdown",
   "id": "d5556556-77fe-4114-af3a-da33869f07ba",
   "metadata": {},
   "source": [
    "# Dynamical and geometrical simulations of EBSD patterns from an Al-steel joint\n",
    "\n",
    "Håkon Wiik Ånes (hakon.w.anes@ntnu.no)\n",
    "\n",
    "See the relevant package documentation for more details on the packages used here:\n",
    "* diffsims: https://diffsims.readthedocs.io/en/latest/\n",
    "* kikuchipy: https://kikuchipy.org/en/stable/\n",
    "* hyperspy: hyperspy.org/hyperspy-doc/current/\n",
    "* pyebsdindex: https://pyebsdindex.readthedocs.io/en/latest/\n",
    "* orix: https://orix.readthedocs.io/en/stable/\n",
    "\n",
    "Import required packages and print their versions"
   ]
  },
  {
   "cell_type": "code",
   "execution_count": 22,
   "id": "ef9c5ccb-c4a8-4f3c-a04c-96f51d0f0355",
   "metadata": {},
   "outputs": [
    {
     "name": "stdout",
     "output_type": "stream",
     "text": [
      "Run date:  2022-05-31\n",
      "\n",
      "Software versions\n",
      "------------------\n",
      "diffsims : 0.5.dev0\n",
      "hyperspy : 1.7.0\n",
      "kikuchipy : 0.6.dev0\n",
      "matplotlib : 3.5.2\n",
      "numpy : 1.21.6\n",
      "orix : 0.9.0\n",
      "scikit-image : 0.19.2\n"
     ]
    }
   ],
   "source": [
    "# Replace \"inline\" with \"qt5\" from the pyqt package for interactive plotting\n",
    "%matplotlib qt5\n",
    "\n",
    "from datetime import date\n",
    "import importlib_metadata\n",
    "import os\n",
    "\n",
    "from diffsims.crystallography import ReciprocalLatticeVector\n",
    "import hyperspy.api as hs\n",
    "import kikuchipy as kp\n",
    "import matplotlib.pyplot as plt\n",
    "import numpy as np\n",
    "from orix import io\n",
    "from orix.quaternion import Orientation\n",
    "import skimage.color as skc\n",
    "\n",
    "\n",
    "# Directories\n",
    "# Dataset naming (a-c) = (I-III)\n",
    "dset = \"a\"\n",
    "dir_mp = \"/home/hakon/kode/emsoft/emdata/crystal_data\"\n",
    "dir_data = os.path.join(\"/home/hakon/phd/data/tina\", dset)\n",
    "dir_kp = os.path.join(dir_data, \"kp\")\n",
    "dir_patterns = os.path.join(dir_kp, \"patterns\")\n",
    "dir_merged = os.path.join(dir_kp, \"merged\")\n",
    "\n",
    "# Matplotlib\n",
    "plt.rcParams.update({\"figure.figsize\": (5, 5), \"font.size\": 10})\n",
    "savefig_kwds = dict(bbox_inches=\"tight\", pad_inches=0, dpi=150)\n",
    "plot_kwds = dict(\n",
    "    scalebar_properties=dict(\n",
    "        box_alpha=0, location=\"lower right\", scale_loc=\"top\"\n",
    "    )\n",
    ")\n",
    "\n",
    "# Various parameters\n",
    "phase_name_alt = {\n",
    "    \"Al\": \"al\",\n",
    "    \"$\\\\alpha$-Fe\": \"ferrite\",\n",
    "    \"$\\\\eta$\": \"fe2al5\",\n",
    "    \"$\\\\theta$\": \"fe4al13\",\n",
    "    \"$\\\\alpha_c$\": \"alfesi\"\n",
    "}\n",
    "energy = 20\n",
    "\n",
    "print(\"Run date: \", date.today())\n",
    "print(\"\\nSoftware versions\\n------------------\")\n",
    "for pkg in [\n",
    "    \"diffsims\",\n",
    "    \"hyperspy\",\n",
    "    \"kikuchipy\",\n",
    "    \"matplotlib\",\n",
    "    \"numpy\",\n",
    "    \"orix\",\n",
    "    \"scikit-image\"\n",
    "]:\n",
    "    if pkg == \"numpy\":\n",
    "        ver = np.__version__\n",
    "    else:\n",
    "        ver = importlib_metadata.version(pkg)\n",
    "    print(pkg, \":\", ver)"
   ]
  },
  {
   "cell_type": "markdown",
   "id": "e0d386c8-1897-4d41-94f2-ea0fd11d450f",
   "metadata": {},
   "source": [
    "## Read data\n",
    "\n",
    "Read processed EBSD patterns into memory"
   ]
  },
  {
   "cell_type": "code",
   "execution_count": 2,
   "id": "d9dce80c-905d-47bc-b38f-7dc159197352",
   "metadata": {},
   "outputs": [
    {
     "name": "stdout",
     "output_type": "stream",
     "text": [
      "<Axes manager, axes: (207, 109|240, 240)>\n",
      "            Name |   size |  index |  offset |   scale |  units \n",
      "================ | ====== | ====== | ======= | ======= | ====== \n",
      "               x |    207 |      0 |       0 |     0.1 |     um \n",
      "               y |    109 |      0 |       0 |     0.1 |     um \n",
      "---------------- | ------ | ------ | ------- | ------- | ------ \n",
      "              dx |    240 |      0 |       0 |       1 |     um \n",
      "              dy |    240 |      0 |       0 |       1 |     um \n"
     ]
    }
   ],
   "source": [
    "s = kp.load(os.path.join(dir_kp, \"pattern_sda.h5\"), lazy=False)\n",
    "sig_shape = s.axes_manager.signal_shape[::-1]\n",
    "print(s.axes_manager)"
   ]
  },
  {
   "cell_type": "markdown",
   "id": "d2057061-91d6-4ffe-84c3-2206d19ba37e",
   "metadata": {},
   "source": [
    "Read multi-phase map from indexing"
   ]
  },
  {
   "cell_type": "code",
   "execution_count": 3,
   "id": "428273c9-2985-41c3-98a2-fb806cff7a0d",
   "metadata": {},
   "outputs": [
    {
     "data": {
      "text/plain": [
       "Phase   Orientations         Name  Space group  Point group  Proper point group       Color\n",
       "    0   9522 (42.2%)           Al        Fm-3m         m-3m                 432    tab:blue\n",
       "    1   4753 (21.1%)   $\\alpha_c$         Im-3          m-3                  23  tab:orange\n",
       "    2   5569 (24.7%)  $\\alpha$-Fe        Im-3m         m-3m                 432   tab:green\n",
       "    3    1868 (8.3%)       $\\eta$         Cmcm          mmm                 222     tab:red\n",
       "    4     851 (3.8%)     $\\theta$         C2/m          2/m                 112  tab:purple\n",
       "Properties: mean_intensity, merged_scores, n_best_disori_angle, scores\n",
       "Scan unit: um"
      ]
     },
     "execution_count": 3,
     "metadata": {},
     "output_type": "execute_result"
    }
   ],
   "source": [
    "xmap = io.load(os.path.join(dir_kp, \"merged\", \"xmap_merged.h5\"))\n",
    "xmap"
   ]
  },
  {
   "cell_type": "markdown",
   "id": "7797b9ab-4527-4caa-9cfc-0faea5368e2f",
   "metadata": {},
   "source": [
    "## Select patterns\n",
    "\n",
    "Select five good quality patterns, one from each phase: we save these to file\n",
    "as well as them plotted with geometrical simulations on top and the corresponding\n",
    "best matching simulated pattern.\n",
    "\n",
    "To find good matching patterns, we navigate them in the phase map with the\n",
    "normalized cross-correlation (NCC) score in the alpha channel"
   ]
  },
  {
   "cell_type": "code",
   "execution_count": 6,
   "id": "41aae0a9-d7ab-46fd-886b-fc1f8c86d2d1",
   "metadata": {},
   "outputs": [],
   "source": [
    "fig = xmap.plot(overlay=\"scores\", return_figure=True)\n",
    "maps_phase_ncc = fig.axes[0].get_images()[0].get_array()\n",
    "maps_phase_ncc = kp.draw.get_rgb_navigator(maps_phase_ncc)\n",
    "navigator = hs.signals.Signal2D(maps_phase_ncc)"
   ]
  },
  {
   "cell_type": "code",
   "execution_count": 20,
   "id": "4ef054d3-94df-467d-b373-f0091ba62207",
   "metadata": {},
   "outputs": [],
   "source": [
    "s.plot(navigator=navigator)"
   ]
  },
  {
   "cell_type": "markdown",
   "id": "64888d3e-0fb4-4c02-885a-53a3b6aa6ab8",
   "metadata": {},
   "source": [
    "Store the (x, y) positions of each pattern and plot them on the NCC score map"
   ]
  },
  {
   "cell_type": "code",
   "execution_count": 8,
   "id": "d1fb1c7e-6804-472e-bed5-88dfd860c2b0",
   "metadata": {},
   "outputs": [],
   "source": [
    "xy = {\n",
    "    \"al\": (92, 25),\n",
    "    \"alpha_alfesi\": (125, 50),\n",
    "    \"ferrite\": (98, 97),\n",
    "    \"fe2al5\": (162, 79),\n",
    "    \"fe4al13\": (191, 73),\n",
    "}\n",
    "colors = {\n",
    "    \"al\": (0, 143, 159),\n",
    "    \"alpha_alfesi\": (117, 216, 185),\n",
    "    \"ferrite\": (127, 198, 130),\n",
    "    \"fe2al5\": (246, 122, 114),\n",
    "    \"fe4al13\": (253, 225, 4),\n",
    "}\n",
    "\n",
    "xs, ys = np.array(list(xy.values())).T\n",
    "colors_arr = np.array(list(colors.values())) / 255\n",
    "\n",
    "fig, ax = plt.subplots()\n",
    "ax.imshow(xmap.get_map_data(\"scores\"), cmap=\"gray\")\n",
    "ax.axis(\"off\")\n",
    "ax.scatter(xs, ys, marker=\"*\", color=colors_arr, s=100, ec=\"k\")\n",
    "fig.tight_layout()\n",
    "fig.savefig(os.path.join(dir_patterns, \"selected_patterns.png\"), **savefig_kwds)"
   ]
  },
  {
   "cell_type": "markdown",
   "id": "03fc9bbf-5a1b-4d5e-9b4f-1db8ee022e53",
   "metadata": {},
   "source": [
    "Extract the selected patterns"
   ]
  },
  {
   "cell_type": "code",
   "execution_count": 9,
   "id": "51254290-ab0e-4aa1-9a4a-00466a853356",
   "metadata": {},
   "outputs": [
    {
     "name": "stderr",
     "output_type": "stream",
     "text": [
      "/home/hakon/miniconda3/envs/kp-dev/lib/python3.9/site-packages/hyperspy/signal.py:2451: UserWarning: Setting the `metadata` attribute is deprecated and will be removed in HyperSpy 2.0. Use the `set_item` and `add_dictionary` methods of the `metadata` attribute instead.\n",
      "  warnings.warn(\n"
     ]
    }
   ],
   "source": [
    "n_patterns = len(xy)\n",
    "s2_arr = np.zeros((n_patterns,) + sig_shape, dtype=s.data.dtype)\n",
    "for i, (x, y) in enumerate(zip(xs, ys)):\n",
    "    s2_arr[i] = s.data[y, x]\n",
    "s2 = kp.signals.EBSD(s2_arr)"
   ]
  },
  {
   "cell_type": "markdown",
   "id": "c76472ec-f9ef-4c8b-8488-ab4dd65be2b8",
   "metadata": {},
   "source": [
    "## Define detector-sample geometry\n",
    "\n",
    "Read projection centers (PC) from file, determined by PC optimization via Hough\n",
    "indexing with `PyEBSDIndex`"
   ]
  },
  {
   "cell_type": "code",
   "execution_count": 10,
   "id": "90b88d47-a23c-4f44-9fa9-64b92d65fdc0",
   "metadata": {},
   "outputs": [],
   "source": [
    "pcs = np.loadtxt(os.path.join(dir_kp, \"cal_pcs.txt\"), usecols=[1, 2, 3])\n",
    "pc = pcs.mean(axis=0)"
   ]
  },
  {
   "cell_type": "markdown",
   "id": "2028b92f-6de0-496f-ac4f-60f6f0e4a772",
   "metadata": {},
   "source": [
    "Define detector-sample geometry"
   ]
  },
  {
   "cell_type": "code",
   "execution_count": 11,
   "id": "9ea5bd8a-7012-4e44-80fd-13a4ba5477f0",
   "metadata": {},
   "outputs": [
    {
     "data": {
      "text/plain": [
       "EBSDDetector (240, 240), px_size 1 um, binning 1, tilt 0, azimuthal 0, pc (0.426, 0.19, 0.512)"
      ]
     },
     "execution_count": 11,
     "metadata": {},
     "output_type": "execute_result"
    }
   ],
   "source": [
    "detector = kp.detectors.EBSDDetector(\n",
    "    shape=sig_shape,\n",
    "    sample_tilt=70,\n",
    "    pc=pc,\n",
    ")\n",
    "detector"
   ]
  },
  {
   "cell_type": "markdown",
   "id": "19783d5d-0db8-45a7-9b83-03e2ee817aeb",
   "metadata": {},
   "source": [
    "## Plot geometrical and dynamical simulations of all phases\n",
    "\n",
    "Extract the flattened 1D indices corresponding to the 2D (x, y) coordinates of\n",
    "the selected patterns"
   ]
  },
  {
   "cell_type": "code",
   "execution_count": 12,
   "id": "fb5f6814-eeb0-45f0-9b6c-fa0b39a9fcd6",
   "metadata": {},
   "outputs": [],
   "source": [
    "idx = np.ravel_multi_index((ys, xs), xmap.shape)"
   ]
  },
  {
   "cell_type": "markdown",
   "id": "4b3552dd-1690-4a44-9642-ad3e6f642a3d",
   "metadata": {},
   "source": [
    "### Ferrite\n",
    "\n",
    "Geometrical simulation"
   ]
  },
  {
   "cell_type": "code",
   "execution_count": 13,
   "id": "c17b9ae5-5543-4541-90cb-e6d3fdf3a47d",
   "metadata": {},
   "outputs": [
    {
     "name": "stdout",
     "output_type": "stream",
     "text": [
      "1\n",
      "2\n",
      "3\n",
      "4\n",
      "5\n",
      "6\n",
      "7\n",
      "8\n",
      "9\n",
      "10\n",
      "11\n"
     ]
    }
   ],
   "source": [
    "i = 2\n",
    "\n",
    "# Make reflector list\n",
    "reflectors = ReciprocalLatticeVector(\n",
    "    hkl=((0, 1, 1), (0, 0, 2), (1, 1, 2), (0, 2, 2)),\n",
    "    phase=xmap.phases[i],\n",
    ")\n",
    "reflectors = reflectors.symmetrise(unique=True)\n",
    "\n",
    "# Make simulator\n",
    "simulator = kp.simulations.KikuchiPatternSimulator(reflectors);\n",
    "\n",
    "# Get Kikuchi lines on detector\n",
    "sim = simulator.on_detector(detector, xmap.rotations[idx[i]])\n",
    "\n",
    "# Phase name\n",
    "phase_name_i = phase_name_alt[xmap.phases[i].name]\n",
    "\n",
    "# Plot geometrical simulation on pattern with zone axes\n",
    "fig = sim.plot(coordinates=\"detector\", pattern=s2.data[i], show_pc=False, return_figure=True, zone_axes_labels=True, zone_axes=False)\n",
    "fig.axes[0].axis(\"off\")\n",
    "fig.savefig(os.path.join(dir_patterns, f\"pattern_{phase_name_i}_x{xs[i]}_y{ys[i]}.png\"), **savefig_kwds)\n",
    "fig.savefig(os.path.join(dir_patterns, f\"pattern_{phase_name_i}_x{xs[i]}_y{ys[i]}.svg\"), **savefig_kwds)\n",
    "\n",
    "# Plot geometrical simulation on pattern without zone axes\n",
    "fig = sim.plot(coordinates=\"detector\", pattern=s2.data[i], show_pc=False, return_figure=True, zone_axes_labels=False, zone_axes=False)\n",
    "fig.axes[0].axis(\"off\")\n",
    "fig.savefig(os.path.join(dir_patterns, f\"pattern_no_za_{phase_name_i}_x{xs[i]}_y{ys[i]}.png\"), **savefig_kwds)\n",
    "fig.savefig(os.path.join(dir_patterns, f\"pattern_no_za_{phase_name_i}_x{xs[i]}_y{ys[i]}.svg\"), **savefig_kwds)"
   ]
  },
  {
   "cell_type": "markdown",
   "id": "33a53dba-79a5-44a8-b6e5-932fa50ae226",
   "metadata": {},
   "source": [
    "Dynamical simulation"
   ]
  },
  {
   "cell_type": "code",
   "execution_count": 14,
   "id": "9f3aa511-b12a-4aae-971d-fb035f5c32b7",
   "metadata": {},
   "outputs": [],
   "source": [
    "mp = kp.load(\n",
    "    os.path.join(dir_mp, phase_name_i, f\"{phase_name_i}_mc_mp_20kv.h5\"),\n",
    "    projection=\"lambert\",\n",
    "    energy=energy\n",
    ")"
   ]
  },
  {
   "cell_type": "code",
   "execution_count": 23,
   "id": "24c2e9b3-753a-4b96-a286-2602afba57e6",
   "metadata": {},
   "outputs": [
    {
     "name": "stdout",
     "output_type": "stream",
     "text": [
      "Creating a dictionary of (1,) simulated patterns:\n",
      "[########################################] | 100% Completed |  0.1s\n"
     ]
    },
    {
     "name": "stderr",
     "output_type": "stream",
     "text": [
      "/home/hakon/miniconda3/envs/kp-dev/lib/python3.9/site-packages/hyperspy/signal.py:2451: UserWarning: Setting the `metadata` attribute is deprecated and will be removed in HyperSpy 2.0. Use the `set_item` and `add_dictionary` methods of the `metadata` attribute instead.\n",
      "  warnings.warn(\n"
     ]
    }
   ],
   "source": [
    "sim_dyn = mp.get_patterns(\n",
    "    xmap.rotations[idx[i]], detector=detector, energy=energy, compute=True\n",
    ")\n",
    "plt.imsave(\n",
    "    os.path.join(dir_patterns, f\"pattern_sim_{phase_name_i}_x{xs[i]}_y{ys[i]}.png\"),\n",
    "    sim_dyn.data.squeeze(),\n",
    "    cmap=\"gray\",\n",
    ")"
   ]
  },
  {
   "cell_type": "markdown",
   "id": "5d9cb78c-c119-48c1-8e0b-0fee80ad0fd7",
   "metadata": {},
   "source": [
    "### Fe2Al5\n",
    "\n",
    "Geometrical simulation"
   ]
  },
  {
   "cell_type": "code",
   "execution_count": 26,
   "id": "702874cb-c5f2-4993-91c3-ae4002b909e6",
   "metadata": {},
   "outputs": [
    {
     "name": "stdout",
     "output_type": "stream",
     "text": [
      "1\n",
      "2\n",
      "3\n",
      "4\n",
      "5\n",
      "6\n",
      "7\n",
      "8\n",
      "9\n",
      "10\n",
      "11\n"
     ]
    }
   ],
   "source": [
    "i = 3\n",
    "\n",
    "# Make reflector list\n",
    "reflectors = ReciprocalLatticeVector(\n",
    "    hkl=((1, 1, 0), (2, 0, 0), (1, 1, 1), (0, 2, 0), (0, 2, 1), (2, 2, 0), (3, 1, 0), (2, 2, 1), (3, 1, 1), (0, 0, 2), (1, 3, 0), (1, 1, 2)),\n",
    "    phase=xmap.phases[i],\n",
    ")\n",
    "reflectors = reflectors.symmetrise(unique=True)\n",
    "\n",
    "# Make simulator\n",
    "simulator = kp.simulations.KikuchiPatternSimulator(reflectors);\n",
    "\n",
    "# Get Kikuchi lines on detector\n",
    "sim = simulator.on_detector(detector, xmap.rotations[idx[i]])\n",
    "\n",
    "# Phase name\n",
    "phase_name_i = phase_name_alt[xmap.phases[i].name]\n",
    "\n",
    "# Plot geometrical simulation on pattern with zone axes\n",
    "fig = sim.plot(coordinates=\"detector\", pattern=s2.data[i], show_pc=False, return_figure=True, zone_axes_labels=True, zone_axes=False)\n",
    "fig.axes[0].axis(\"off\")\n",
    "fig.savefig(os.path.join(dir_patterns, f\"pattern_{phase_name_i}_x{xs[i]}_y{ys[i]}.png\"), **savefig_kwds)\n",
    "fig.savefig(os.path.join(dir_patterns, f\"pattern_{phase_name_i}_x{xs[i]}_y{ys[i]}.svg\"), **savefig_kwds)\n",
    "\n",
    "# Plot geometrical simulation on pattern without zone axes\n",
    "fig = sim.plot(coordinates=\"detector\", pattern=s2.data[i], show_pc=False, return_figure=True, zone_axes_labels=False, zone_axes=False)\n",
    "fig.axes[0].axis(\"off\")\n",
    "fig.savefig(os.path.join(dir_patterns, f\"pattern_no_za_{phase_name_i}_x{xs[i]}_y{ys[i]}.png\"), **savefig_kwds)\n",
    "fig.savefig(os.path.join(dir_patterns, f\"pattern_no_za_{phase_name_i}_x{xs[i]}_y{ys[i]}.svg\"), **savefig_kwds)"
   ]
  },
  {
   "cell_type": "markdown",
   "id": "068709f9-7091-457f-bb46-e9628b7cb376",
   "metadata": {},
   "source": [
    "Dynamical simulation"
   ]
  },
  {
   "cell_type": "code",
   "execution_count": 27,
   "id": "3bd3bafd-2fb1-48c4-872a-499289a6767f",
   "metadata": {},
   "outputs": [],
   "source": [
    "mp = kp.load(\n",
    "    os.path.join(dir_mp, phase_name_i, f\"{phase_name_i}_mc_mp_20kv.h5\"),\n",
    "    projection=\"lambert\",\n",
    "    energy=energy\n",
    ")"
   ]
  },
  {
   "cell_type": "code",
   "execution_count": 28,
   "id": "ee394e77-c52f-4167-a214-78891a792976",
   "metadata": {},
   "outputs": [
    {
     "name": "stdout",
     "output_type": "stream",
     "text": [
      "Creating a dictionary of (1,) simulated patterns:\n",
      "[########################################] | 100% Completed |  0.1s\n"
     ]
    },
    {
     "name": "stderr",
     "output_type": "stream",
     "text": [
      "/home/hakon/miniconda3/envs/kp-dev/lib/python3.9/site-packages/hyperspy/signal.py:2451: UserWarning: Setting the `metadata` attribute is deprecated and will be removed in HyperSpy 2.0. Use the `set_item` and `add_dictionary` methods of the `metadata` attribute instead.\n",
      "  warnings.warn(\n"
     ]
    }
   ],
   "source": [
    "sim_dyn = mp.get_patterns(\n",
    "    xmap.rotations[idx[i]], detector=detector, energy=energy, compute=True\n",
    ")\n",
    "plt.imsave(\n",
    "    os.path.join(dir_patterns, f\"pattern_sim_{phase_name_i}_x{xs[i]}_y{ys[i]}.png\"),\n",
    "    sim_dyn.data.squeeze(),\n",
    "    cmap=\"gray\",\n",
    ")"
   ]
  },
  {
   "cell_type": "markdown",
   "id": "a6d13d12-66c3-4cbb-a5e8-62bf11a2e582",
   "metadata": {},
   "source": [
    "### Fe4Al13\n",
    "\n",
    "Geometrical simulation"
   ]
  },
  {
   "cell_type": "code",
   "execution_count": 29,
   "id": "69c3b653-ddac-4317-9563-6930fab0defe",
   "metadata": {},
   "outputs": [
    {
     "name": "stdout",
     "output_type": "stream",
     "text": [
      "1\n",
      "2\n",
      "3\n",
      "4\n",
      "5\n",
      "6\n",
      "7\n",
      "8\n",
      "9\n",
      "10\n",
      "11\n"
     ]
    }
   ],
   "source": [
    "i = 4\n",
    "\n",
    "# Make reflector list\n",
    "reflectors = ReciprocalLatticeVector(\n",
    "    hkl=(\n",
    "        (6, 2, 0),\n",
    "        (0, 4, 0),\n",
    "        (6, 2, -3),\n",
    "        (0, 2, 5),\n",
    "        (4, 2, -5),\n",
    "        (4, 2, 3),\n",
    "        (0, 0, 3),\n",
    "        (6, 0, -5),\n",
    "        (2, 2, 0),\n",
    "        (2, 0, 5),\n",
    "        (2, 0, -6),\n",
    "        (2, 0, -3),\n",
    "        (6, 0, 2),\n",
    "    ),\n",
    "    phase=xmap.phases[i],\n",
    ")\n",
    "reflectors = reflectors.symmetrise(unique=True)\n",
    "\n",
    "# Make simulator\n",
    "simulator = kp.simulations.KikuchiPatternSimulator(reflectors);\n",
    "\n",
    "# Get Kikuchi lines on detector\n",
    "sim = simulator.on_detector(detector, xmap.rotations[idx[i]])\n",
    "\n",
    "# Phase name\n",
    "phase_name_i = phase_name_alt[xmap.phases[i].name]\n",
    "\n",
    "# Plot geometrical simulation on pattern with zone axes\n",
    "fig = sim.plot(coordinates=\"detector\", pattern=s2.data[i], show_pc=False, return_figure=True, zone_axes_labels=True, zone_axes=False)\n",
    "fig.axes[0].axis(\"off\")\n",
    "fig.savefig(os.path.join(dir_patterns, f\"pattern_{phase_name_i}_x{xs[i]}_y{ys[i]}.png\"), **savefig_kwds)\n",
    "fig.savefig(os.path.join(dir_patterns, f\"pattern_{phase_name_i}_x{xs[i]}_y{ys[i]}.svg\"), **savefig_kwds)\n",
    "\n",
    "# Plot geometrical simulation on pattern without zone axes\n",
    "fig = sim.plot(coordinates=\"detector\", pattern=s2.data[i], show_pc=False, return_figure=True, zone_axes_labels=False, zone_axes=False)\n",
    "fig.axes[0].axis(\"off\")\n",
    "fig.savefig(os.path.join(dir_patterns, f\"pattern_no_za_{phase_name_i}_x{xs[i]}_y{ys[i]}.png\"), **savefig_kwds)\n",
    "fig.savefig(os.path.join(dir_patterns, f\"pattern_no_za_{phase_name_i}_x{xs[i]}_y{ys[i]}.svg\"), **savefig_kwds)"
   ]
  },
  {
   "cell_type": "markdown",
   "id": "ec1f1a28-a358-4b35-89d4-400732703e64",
   "metadata": {},
   "source": [
    "Dynamical simulation"
   ]
  },
  {
   "cell_type": "code",
   "execution_count": 30,
   "id": "d94402e0-99e5-4c2e-8bee-547e5f3f9723",
   "metadata": {},
   "outputs": [],
   "source": [
    "mp = kp.load(\n",
    "    os.path.join(dir_mp, phase_name_i, f\"{phase_name_i}_mc_mp_20kv.h5\"),\n",
    "    projection=\"lambert\",\n",
    "    energy=energy\n",
    ")"
   ]
  },
  {
   "cell_type": "code",
   "execution_count": 31,
   "id": "6e2948bb-9671-4575-835c-eadaccae4185",
   "metadata": {},
   "outputs": [
    {
     "name": "stdout",
     "output_type": "stream",
     "text": [
      "Creating a dictionary of (1,) simulated patterns:\n",
      "[########################################] | 100% Completed |  0.1s\n"
     ]
    },
    {
     "name": "stderr",
     "output_type": "stream",
     "text": [
      "/home/hakon/miniconda3/envs/kp-dev/lib/python3.9/site-packages/hyperspy/signal.py:2451: UserWarning: Setting the `metadata` attribute is deprecated and will be removed in HyperSpy 2.0. Use the `set_item` and `add_dictionary` methods of the `metadata` attribute instead.\n",
      "  warnings.warn(\n"
     ]
    }
   ],
   "source": [
    "sim_dyn = mp.get_patterns(\n",
    "    xmap.rotations[idx[i]], detector=detector, energy=energy, compute=True\n",
    ")\n",
    "plt.imsave(\n",
    "    os.path.join(dir_patterns, f\"pattern_sim_{phase_name_i}_x{xs[i]}_y{ys[i]}.png\"),\n",
    "    sim_dyn.data.squeeze(),\n",
    "    cmap=\"gray\",\n",
    ")"
   ]
  },
  {
   "cell_type": "markdown",
   "id": "d8c34e6b-ee51-4789-9eec-0bbe2f99ba77",
   "metadata": {},
   "source": [
    "### Alpha-AlFeSi\n",
    "\n",
    "Geometrical simulation"
   ]
  },
  {
   "cell_type": "code",
   "execution_count": 32,
   "id": "91901599-1ed9-4d77-9f47-265c7909429e",
   "metadata": {},
   "outputs": [
    {
     "name": "stdout",
     "output_type": "stream",
     "text": [
      "1\n",
      "2\n",
      "3\n",
      "4\n",
      "5\n",
      "6\n",
      "7\n",
      "8\n",
      "9\n",
      "10\n",
      "11\n"
     ]
    }
   ],
   "source": [
    "i = 1\n",
    "\n",
    "# Make reflector list\n",
    "reflectors = ReciprocalLatticeVector(\n",
    "    hkl=(\n",
    "        (2, 3, 5),\n",
    "        (3, 0, 5),\n",
    "        (3, 5, 8),\n",
    "        (0, 0, 6)\n",
    "    ),\n",
    "    phase=xmap.phases[i],\n",
    ")\n",
    "reflectors = reflectors.symmetrise(unique=True)\n",
    "\n",
    "# Make simulator\n",
    "simulator = kp.simulations.KikuchiPatternSimulator(reflectors);\n",
    "\n",
    "# Get Kikuchi lines on detector\n",
    "sim = simulator.on_detector(detector, xmap.rotations[idx[i]])\n",
    "\n",
    "# Phase name\n",
    "phase_name_i = phase_name_alt[xmap.phases[i].name]\n",
    "\n",
    "# Plot geometrical simulation on pattern with zone axes\n",
    "fig = sim.plot(coordinates=\"detector\", pattern=s2.data[i], show_pc=False, return_figure=True, zone_axes_labels=True, zone_axes=False)\n",
    "fig.axes[0].axis(\"off\")\n",
    "fig.savefig(os.path.join(dir_patterns, f\"pattern_{phase_name_i}_x{xs[i]}_y{ys[i]}.png\"), **savefig_kwds)\n",
    "fig.savefig(os.path.join(dir_patterns, f\"pattern_{phase_name_i}_x{xs[i]}_y{ys[i]}.svg\"), **savefig_kwds)\n",
    "\n",
    "# Plot geometrical simulation on pattern without zone axes\n",
    "fig = sim.plot(coordinates=\"detector\", pattern=s2.data[i], show_pc=False, return_figure=True, zone_axes_labels=False, zone_axes=False)\n",
    "fig.axes[0].axis(\"off\")\n",
    "fig.savefig(os.path.join(dir_patterns, f\"pattern_no_za_{phase_name_i}_x{xs[i]}_y{ys[i]}.png\"), **savefig_kwds)\n",
    "fig.savefig(os.path.join(dir_patterns, f\"pattern_no_za_{phase_name_i}_x{xs[i]}_y{ys[i]}.svg\"), **savefig_kwds)"
   ]
  },
  {
   "cell_type": "markdown",
   "id": "d9471681-a81e-46b1-a7cd-e647c193eb01",
   "metadata": {},
   "source": [
    "Dynamical simulation"
   ]
  },
  {
   "cell_type": "code",
   "execution_count": 34,
   "id": "893f6e5b-c9c8-409a-829d-5b3f8c1225c9",
   "metadata": {},
   "outputs": [],
   "source": [
    "mp = kp.load(\n",
    "    os.path.join(dir_mp, \"alpha_alfesi2\", \"alpha_alfesi2_mc_mp_20kv.h5\"),\n",
    "    projection=\"lambert\",\n",
    "    energy=energy\n",
    ")"
   ]
  },
  {
   "cell_type": "code",
   "execution_count": 35,
   "id": "0695fb4c-3b71-4d60-bfc9-5748abbd2e09",
   "metadata": {},
   "outputs": [
    {
     "name": "stdout",
     "output_type": "stream",
     "text": [
      "Creating a dictionary of (1,) simulated patterns:\n",
      "[########################################] | 100% Completed |  0.1s\n"
     ]
    },
    {
     "name": "stderr",
     "output_type": "stream",
     "text": [
      "/home/hakon/miniconda3/envs/kp-dev/lib/python3.9/site-packages/hyperspy/signal.py:2451: UserWarning: Setting the `metadata` attribute is deprecated and will be removed in HyperSpy 2.0. Use the `set_item` and `add_dictionary` methods of the `metadata` attribute instead.\n",
      "  warnings.warn(\n"
     ]
    }
   ],
   "source": [
    "sim_dyn = mp.get_patterns(\n",
    "    xmap.rotations[idx[i]], detector=detector, energy=energy, compute=True\n",
    ")\n",
    "plt.imsave(\n",
    "    os.path.join(dir_patterns, f\"pattern_sim_{phase_name_i}_x{xs[i]}_y{ys[i]}.png\"),\n",
    "    sim_dyn.data.squeeze(),\n",
    "    cmap=\"gray\",\n",
    ")"
   ]
  },
  {
   "cell_type": "markdown",
   "id": "2c382b3b-0c02-4b66-84e2-0fa48c40ead3",
   "metadata": {},
   "source": [
    "### Al\n",
    "\n",
    "Geometrical simulation"
   ]
  },
  {
   "cell_type": "code",
   "execution_count": 36,
   "id": "a9c28f31-305c-4425-834b-e5de7150d40b",
   "metadata": {},
   "outputs": [
    {
     "name": "stdout",
     "output_type": "stream",
     "text": [
      "1\n",
      "2\n",
      "3\n",
      "4\n",
      "5\n",
      "6\n",
      "7\n",
      "8\n",
      "9\n",
      "10\n",
      "11\n"
     ]
    }
   ],
   "source": [
    "i = 0\n",
    "\n",
    "# Make reflector list\n",
    "reflectors = ReciprocalLatticeVector(\n",
    "    hkl=((1, 1, 1), (2, 0, 0), (2, 2, 0), (3, 1, 1)),\n",
    "    phase=xmap.phases[i],\n",
    ")\n",
    "reflectors = reflectors.symmetrise(unique=True)\n",
    "\n",
    "# Make simulator\n",
    "simulator = kp.simulations.KikuchiPatternSimulator(reflectors);\n",
    "\n",
    "# Get Kikuchi lines on detector\n",
    "sim = simulator.on_detector(detector, xmap.rotations[idx[i]])\n",
    "\n",
    "# Phase name\n",
    "phase_name_i = phase_name_alt[xmap.phases[i].name]\n",
    "\n",
    "# Plot geometrical simulation on pattern with zone axes\n",
    "fig = sim.plot(coordinates=\"detector\", pattern=s2.data[i], show_pc=False, return_figure=True, zone_axes_labels=True, zone_axes=False)\n",
    "fig.axes[0].axis(\"off\")\n",
    "fig.savefig(os.path.join(dir_patterns, f\"pattern_{phase_name_i}_x{xs[i]}_y{ys[i]}.png\"), **savefig_kwds)\n",
    "fig.savefig(os.path.join(dir_patterns, f\"pattern_{phase_name_i}_x{xs[i]}_y{ys[i]}.svg\"), **savefig_kwds)\n",
    "\n",
    "# Plot geometrical simulation on pattern without zone axes\n",
    "fig = sim.plot(coordinates=\"detector\", pattern=s2.data[i], show_pc=False, return_figure=True, zone_axes_labels=False, zone_axes=False)\n",
    "fig.axes[0].axis(\"off\")\n",
    "fig.savefig(os.path.join(dir_patterns, f\"pattern_no_za_{phase_name_i}_x{xs[i]}_y{ys[i]}.png\"), **savefig_kwds)\n",
    "fig.savefig(os.path.join(dir_patterns, f\"pattern_no_za_{phase_name_i}_x{xs[i]}_y{ys[i]}.svg\"), **savefig_kwds)"
   ]
  },
  {
   "cell_type": "markdown",
   "id": "f473ce4b-f57c-48ab-a0ac-9d3bc46cbad5",
   "metadata": {},
   "source": [
    "Dynamical simulation"
   ]
  },
  {
   "cell_type": "code",
   "execution_count": 37,
   "id": "59a23aea-5939-4f97-8793-6b2925cf3a89",
   "metadata": {},
   "outputs": [],
   "source": [
    "mp = kp.load(\n",
    "    os.path.join(dir_mp, phase_name_i, f\"{phase_name_i}_mc_mp_20kv.h5\"),\n",
    "    projection=\"lambert\",\n",
    "    energy=energy\n",
    ")"
   ]
  },
  {
   "cell_type": "code",
   "execution_count": 38,
   "id": "db78d724-4142-40d2-834e-d8f16dbfb64f",
   "metadata": {},
   "outputs": [
    {
     "name": "stdout",
     "output_type": "stream",
     "text": [
      "Creating a dictionary of (1,) simulated patterns:\n",
      "[########################################] | 100% Completed |  0.1s\n"
     ]
    },
    {
     "name": "stderr",
     "output_type": "stream",
     "text": [
      "/home/hakon/miniconda3/envs/kp-dev/lib/python3.9/site-packages/hyperspy/signal.py:2451: UserWarning: Setting the `metadata` attribute is deprecated and will be removed in HyperSpy 2.0. Use the `set_item` and `add_dictionary` methods of the `metadata` attribute instead.\n",
      "  warnings.warn(\n"
     ]
    }
   ],
   "source": [
    "sim_dyn = mp.get_patterns(\n",
    "    xmap.rotations[idx[i]], detector=detector, energy=energy, compute=True\n",
    ")\n",
    "plt.imsave(\n",
    "    os.path.join(dir_patterns, f\"pattern_sim_{phase_name_i}_x{xs[i]}_y{ys[i]}.png\"),\n",
    "    sim_dyn.data.squeeze(),\n",
    "    cmap=\"gray\",\n",
    ")"
   ]
  }
 ],
 "metadata": {
  "kernelspec": {
   "display_name": "Python 3 (ipykernel)",
   "language": "python",
   "name": "python3"
  },
  "language_info": {
   "codemirror_mode": {
    "name": "ipython",
    "version": 3
   },
   "file_extension": ".py",
   "mimetype": "text/x-python",
   "name": "python",
   "nbconvert_exporter": "python",
   "pygments_lexer": "ipython3",
   "version": "3.9.13"
  }
 },
 "nbformat": 4,
 "nbformat_minor": 5
}
